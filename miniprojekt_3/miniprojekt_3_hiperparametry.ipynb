{
 "cells": [
  {
   "cell_type": "code",
   "execution_count": 1,
   "metadata": {},
   "outputs": [],
   "source": [
    "import torch\n",
    "import torchvision\n",
    "import torch.nn as nn\n",
    "import torchvision.transforms as transforms\n",
    "import pandas as pd\n",
    "import numpy as np\n",
    "import torch.nn.functional as F\n",
    "import torch.optim as optim\n",
    "\n",
    "import matplotlib.pyplot as plt\n",
    "import seaborn as sns\n",
    "\n",
    "from data_functions import *\n",
    "from metric_functions import *\n",
    "from helper_functions import *\n",
    "from models import *\n",
    "\n",
    "device = torch.device(\"cuda\" if torch.cuda.is_available() else \"cpu\")"
   ]
  },
  {
   "cell_type": "markdown",
   "metadata": {},
   "source": [
    "## Hiperparametry"
   ]
  },
  {
   "cell_type": "code",
   "execution_count": 2,
   "metadata": {},
   "outputs": [],
   "source": [
    "dataset = load_data(\"./train\")\n",
    "labels = dataset.classes\n",
    "dataset = torch.load(\"final_data.tar\")\n",
    "train, val = trai_val_split(dataset, 0.8)"
   ]
  },
  {
   "cell_type": "code",
   "execution_count": 3,
   "metadata": {},
   "outputs": [],
   "source": [
    "n_convs_values = [2, 5, 10]\n",
    "kernel_size_values = [3, 5, 7]\n",
    "stride_values = [1, 2, 3]\n",
    "padding_values = [1, 2, 3]"
   ]
  },
  {
   "cell_type": "code",
   "execution_count": 6,
   "metadata": {},
   "outputs": [],
   "source": [
    "res = pd.DataFrame(columns=[\"n_convs\", \"kernel_size\", \"stride\", \"padding\", \"train_loss\", \"train_acc\", \"val_acc\", \"overfit\"])\n",
    "nets = {}"
   ]
  },
  {
   "cell_type": "code",
   "execution_count": 7,
   "metadata": {},
   "outputs": [
    {
     "data": {
      "application/vnd.jupyter.widget-view+json": {
       "model_id": "fdf51d89cd524ea290bc92cef7cb0961",
       "version_major": 2,
       "version_minor": 0
      },
      "text/plain": [
       "  0%|          | 0/3 [00:00<?, ?it/s]"
      ]
     },
     "metadata": {},
     "output_type": "display_data"
    },
    {
     "data": {
      "application/vnd.jupyter.widget-view+json": {
       "model_id": "7645be234279410a98bc6c437af29a58",
       "version_major": 2,
       "version_minor": 0
      },
      "text/plain": [
       "  0%|          | 0/3 [00:00<?, ?it/s]"
      ]
     },
     "metadata": {},
     "output_type": "display_data"
    },
    {
     "data": {
      "application/vnd.jupyter.widget-view+json": {
       "model_id": "7c6a2fbf1d41468d9b976a47440b1b4a",
       "version_major": 2,
       "version_minor": 0
      },
      "text/plain": [
       "  0%|          | 0/3 [00:00<?, ?it/s]"
      ]
     },
     "metadata": {},
     "output_type": "display_data"
    },
    {
     "data": {
      "application/vnd.jupyter.widget-view+json": {
       "model_id": "9d19c327870f4ceeb5bb320f2f5dbcb5",
       "version_major": 2,
       "version_minor": 0
      },
      "text/plain": [
       "  0%|          | 0/3 [00:00<?, ?it/s]"
      ]
     },
     "metadata": {},
     "output_type": "display_data"
    }
   ],
   "source": [
    "from tqdm import notebook as tqdm_notebook\n",
    "\n",
    "for n_convs in tqdm_notebook.tqdm(n_convs_values):\n",
    "    for kernel_size in tqdm_notebook.tqdm(kernel_size_values):\n",
    "        for stride in tqdm_notebook.tqdm(stride_values):\n",
    "            for padding in tqdm_notebook.tqdm(padding_values):\n",
    "                net = CustomNet(num_classes=len(labels), input_size=48, n_convs=n_convs, kernel_size=kernel_size, stride=stride, padding=padding).to(device)\n",
    "                nets[(n_convs, kernel_size, stride, padding)] = net\n",
    "                train_loader = torch.utils.data.DataLoader(train, batch_size=32, shuffle=True, num_workers=8)\n",
    "                val_loader = torch.utils.data.DataLoader(val, batch_size=32, shuffle=True, num_workers=8)\n",
    "                criterion = nn.CrossEntropyLoss()\n",
    "                optimizer = optim.Adam(net.parameters(), lr=0.001)\n",
    "                loss_hist, train_eval_hist, val_eval_hist = train_model(net, train_loader, val_loader, criterion, optimizer, get_accuracy, device, 25, verbose=False)\n",
    "                model_res = pd.DataFrame([[n_convs, kernel_size, stride, padding, loss_hist, train_eval_hist[-1], val_eval_hist[-1], train_eval_hist[-1]-val_eval_hist[-1]]], columns=[\"n_convs\", \"kernel_size\", \"stride\", \"padding\", \"train_loss\", \"train_acc\", \"val_acc\", \"overfit\"])\n",
    "                res = pd.concat([res, model_res])"
   ]
  },
  {
   "cell_type": "code",
   "execution_count": null,
   "metadata": {},
   "outputs": [],
   "source": [
    "display(res.sort_values(by=\"val_acc\", ascending=False).head(10))"
   ]
  }
 ],
 "metadata": {
  "kernelspec": {
   "display_name": ".venv",
   "language": "python",
   "name": "python3"
  },
  "language_info": {
   "codemirror_mode": {
    "name": "ipython",
    "version": 3
   },
   "file_extension": ".py",
   "mimetype": "text/x-python",
   "name": "python",
   "nbconvert_exporter": "python",
   "pygments_lexer": "ipython3",
   "version": "3.10.12"
  }
 },
 "nbformat": 4,
 "nbformat_minor": 2
}
